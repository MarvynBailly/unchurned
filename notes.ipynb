{
 "cells": [
  {
   "cell_type": "markdown",
   "metadata": {},
   "source": [
    "<h1>Notes</h1>"
   ]
  },
  {
   "cell_type": "markdown",
   "metadata": {},
   "source": [
    "<h3>Initial Notes</h3>\n",
    "Followed this <a href=\"https://discordjs.guide/#before-you-begin\">article</a> to setup bot."
   ]
  },
  {
   "cell_type": "markdown",
   "metadata": {},
   "source": [
    "<h3>Custom Emoji</h3>"
   ]
  },
  {
   "cell_type": "markdown",
   "metadata": {},
   "source": [
    "To add custom emoji from server:"
   ]
  },
  {
   "cell_type": "code",
   "execution_count": 3,
   "metadata": {
    "vscode": {
     "languageId": "javascript"
    }
   },
   "outputs": [],
   "source": [
    "test = \"This is a custom emoji: <:emoji_name:emoji_id>\""
   ]
  },
  {
   "cell_type": "markdown",
   "metadata": {},
   "source": [
    "and get the emoji_id by typing ```\\:YourEmoji:``` into discord. "
   ]
  },
  {
   "cell_type": "markdown",
   "metadata": {},
   "source": [
    "Unturned Zombie Face: ```<:zambie:347968283905097729>```"
   ]
  },
  {
   "cell_type": "markdown",
   "metadata": {},
   "source": [
    "<h3>Slash Commands</h3>"
   ]
  },
  {
   "cell_type": "markdown",
   "metadata": {},
   "source": [
    "To make a new slash command, make new file in commands directory with name same as the desired slash command. Use the following format:"
   ]
  },
  {
   "cell_type": "code",
   "execution_count": null,
   "metadata": {
    "vscode": {
     "languageId": "javascript"
    }
   },
   "outputs": [],
   "source": [
    "const { SlashCommandBuilder } = require('@discordjs/builders');\n",
    "\n",
    "module.exports = {\n",
    "\tdata: new SlashCommandBuilder()\n",
    "\t\t.setName('NAME')\n",
    "\t\t.setDescription('DESCRIPTION'),\n",
    "\tasync execute(interaction) {\n",
    "\t\tawait interaction.reply('SAY SOMETHING');\n",
    "\t},\n",
    "};"
   ]
  },
  {
   "cell_type": "markdown",
   "metadata": {},
   "source": [
    "Then run ``` node deploy-commands.js ``` to registar the new command. "
   ]
  }
 ],
 "metadata": {
  "interpreter": {
   "hash": "8999ca217b2fa3fb8875d9227edfd6c20266cf632b7380cda2ffe3df3689d7c1"
  },
  "kernelspec": {
   "display_name": "Python 3.7.4 32-bit",
   "language": "python",
   "name": "python3"
  },
  "language_info": {
   "codemirror_mode": {
    "name": "ipython",
    "version": 3
   },
   "file_extension": ".py",
   "mimetype": "text/x-python",
   "name": "python",
   "nbconvert_exporter": "python",
   "pygments_lexer": "ipython3",
   "version": "3.7.4"
  },
  "orig_nbformat": 4
 },
 "nbformat": 4,
 "nbformat_minor": 2
}
